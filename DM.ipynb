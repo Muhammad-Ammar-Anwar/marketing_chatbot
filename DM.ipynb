{
 "cells": [
  {
   "cell_type": "code",
   "execution_count": 33,
   "id": "bc39825f",
   "metadata": {},
   "outputs": [],
   "source": [
    "import os \n",
    "groq_api_key=os.getenv('groq_api_key')\n",
    "os.environ[\"HF_TOKEN\"] = os.getenv('HF_TOKEN')"
   ]
  },
  {
   "cell_type": "code",
   "execution_count": 34,
   "id": "7244f331",
   "metadata": {},
   "outputs": [
    {
     "data": {
      "text/plain": [
       "ChatGroq(client=<groq.resources.chat.completions.Completions object at 0x000002D1FA66EF90>, async_client=<groq.resources.chat.completions.AsyncCompletions object at 0x000002D1DE3B7D10>, model_name='llama-3.3-70b-versatile', model_kwargs={}, groq_api_key=SecretStr('**********'))"
      ]
     },
     "execution_count": 34,
     "metadata": {},
     "output_type": "execute_result"
    }
   ],
   "source": [
    "from langchain_groq import ChatGroq\n",
    "llm=ChatGroq(model_name=\"llama-3.3-70b-versatile\",groq_api_key=groq_api_key)\n",
    "llm"
   ]
  },
  {
   "cell_type": "code",
   "execution_count": 35,
   "id": "8789ae94",
   "metadata": {},
   "outputs": [
    {
     "data": {
      "text/plain": [
       "\"It's nice to meet you. Is there something I can help you with or would you like to chat?\""
      ]
     },
     "execution_count": 35,
     "metadata": {},
     "output_type": "execute_result"
    }
   ],
   "source": [
    "llm.invoke('hi').content"
   ]
  },
  {
   "cell_type": "code",
   "execution_count": 36,
   "id": "c78211fa",
   "metadata": {},
   "outputs": [],
   "source": [
    "from langchain_core.prompts import ChatPromptTemplate\n",
    "from langchain.chains.combine_documents import create_stuff_documents_chain\n",
    "from langchain_core.runnables import RunnableSequence"
   ]
  },
  {
   "cell_type": "code",
   "execution_count": null,
   "id": "76c51f20",
   "metadata": {},
   "outputs": [],
   "source": [
    "system_prompt = \"\"\"\n",
    "You are a smart and helpful AI assistant working for a top marketing agency in Pakistan.\n",
    "\n",
    "Your tasks include:\n",
    "- Sharing the latest marketing and advertising trends (local and global)\n",
    "- Answering FAQs about services, pricing, and processes\n",
    "- Assisting users in booking product/service demos\n",
    "- Recommending suitable marketing services and packages\n",
    "- Providing detailed product/service information\n",
    "- Helping generate qualified leads\n",
    "- Offering information about free trials and ongoing promotions\n",
    "- Supporting other marketing-related inquiries\n",
    "- if a person ask question other than marketing deny to reply\n",
    "\n",
    "Always respond in a friendly, professional tone. Use local context (Pakistan market) where relevant. Keep answers concise, clear, and helpful. If needed, suggest actions like \"Book a demo\", \"Request a quote\", or \"Start a free trial\".\n",
    "\n",
    "\"\\n\\n\"\n",
    "\"{context}\"\n",
    "\"\"\"\n",
    "\n",
    "from langchain.prompts import ChatPromptTemplate\n",
    "\n",
    "prompt = ChatPromptTemplate.from_messages([\n",
    "    (\"system\", system_prompt),\n",
    "    (\"human\", \"{input}\"),\n",
    "])\n"
   ]
  },
  {
   "cell_type": "code",
   "execution_count": null,
   "id": "eaa5527d",
   "metadata": {},
   "outputs": [],
   "source": [
    "# prompt = ChatPromptTemplate.from_messages([\n",
    "#     (\"system\", system_prompt),\n",
    "#     (\"human\", \"{input}\"),\n",
    "# ])\n",
    "\n",
    "# chat_chain = RunnableSequence(prompt | llm)\n",
    "\n",
    "# user_input = \"what the best place for digital marketing\"\n",
    "# response = chat_chain.invoke({\"input\": user_input})\n",
    "\n",
    "# print(response.content)\n"
   ]
  },
  {
   "cell_type": "code",
   "execution_count": 42,
   "id": "c7f34e9b",
   "metadata": {},
   "outputs": [],
   "source": [
    "from langchain.vectorstores import FAISS\n",
    "from langchain.embeddings import HuggingFaceEmbeddings\n",
    "\n",
    "embedding_model = HuggingFaceEmbeddings(model_name=\"BAAI/bge-large-en-v1.5\")\n",
    "vector_store = FAISS.load_local(\"faiss_digital_marketing_knowledgebase\", embedding_model,allow_dangerous_deserialization=True)\n"
   ]
  },
  {
   "cell_type": "code",
   "execution_count": 43,
   "id": "4c66ec90",
   "metadata": {},
   "outputs": [
    {
     "data": {
      "text/plain": [
       "VectorStoreRetriever(tags=['FAISS', 'HuggingFaceEmbeddings'], vectorstore=<langchain_community.vectorstores.faiss.FAISS object at 0x000002D1DE3B58E0>, search_kwargs={})"
      ]
     },
     "execution_count": 43,
     "metadata": {},
     "output_type": "execute_result"
    }
   ],
   "source": [
    "retriever=vector_store.as_retriever()\n",
    "retriever"
   ]
  },
  {
   "cell_type": "code",
   "execution_count": null,
   "id": "97470095",
   "metadata": {},
   "outputs": [],
   "source": [
    "from langchain.chains import create_retrieval_chain\n",
    "from langchain.chains.combine_documents import create_stuff_documents_chain\n",
    "from langchain_community.document_loaders import WebBaseLoader\n",
    "from langchain_core.output_parsers import StrOutputParser\n",
    "from langchain_core.prompts import ChatPromptTemplate\n",
    "from langchain_core.runnables import RunnablePassthrough\n",
    "from langchain_text_splitters import RecursiveCharacterTextSplitter"
   ]
  },
  {
   "cell_type": "code",
   "execution_count": null,
   "id": "d02a6f96",
   "metadata": {},
   "outputs": [],
   "source": [
    "from langchain.chains import create_history_aware_retriever\n",
    "from langchain_core.prompts import MessagesPlaceholder\n",
    "\n",
    "contextualize_q_system_prompt = (\n",
    "    \"Given a chat history and the latest user question \"\n",
    "    \"which might reference context in the chat history, \"\n",
    "    \"formulate a standalone question which can be understood \"\n",
    "    \"without the chat history. Do NOT answer the question, \"\n",
    "    \"just reformulate it if needed and otherwise return it as is.\"\n",
    ")\n",
    "\n",
    "contextualize_q_prompt = ChatPromptTemplate.from_messages(\n",
    "    [\n",
    "        (\"system\", contextualize_q_system_prompt),\n",
    "        MessagesPlaceholder(\"chat_history\"),\n",
    "        (\"human\", \"{input}\"),\n",
    "    ]\n",
    ")"
   ]
  },
  {
   "cell_type": "code",
   "execution_count": 44,
   "id": "2b88c518",
   "metadata": {},
   "outputs": [],
   "source": [
    "from langchain.chains import create_retrieval_chain\n",
    "from langchain.chains.combine_documents import create_stuff_documents_chain\n",
    "\n",
    "question_answer_chain=create_stuff_documents_chain(llm,prompt)\n",
    "rag_chain=create_retrieval_chain(retriever,question_answer_chain)"
   ]
  },
  {
   "cell_type": "code",
   "execution_count": 48,
   "id": "041c779c",
   "metadata": {},
   "outputs": [
    {
     "data": {
      "text/plain": [
       "'Digital marketing, also known as online marketing, is the promotion of brands, products, or services using digital channels such as search engines, social media platforms, email, and websites. It involves using digital tools and techniques to reach, engage, and convert target audiences into customers.\\n\\nDigital marketing encompasses a wide range of activities, including:\\n\\n1. **Search Engine Optimization (SEO)**: Optimizing website content to rank higher in search engine results pages (SERPs) for specific keywords.\\n2. **Pay-Per-Click (PPC) Advertising**: Creating and publishing online ads that are paid for each time a user clicks on them.\\n3. **Social Media Marketing**: Using social media platforms to promote products, services, or brands, and engage with target audiences.\\n4. **Content Marketing**: Creating and distributing valuable, relevant, and consistent content to attract and retain a clearly defined audience.\\n5. **Email Marketing**: Sending targeted and personalized messages to customers or potential customers via email.\\n6. **Influencer Marketing**: Partnering with influencers who have a large following on social media to promote products or services.\\n7. **Affiliate Marketing**: Partnering with affiliates who promote products or services and earn a commission on sales.\\n8. **Video Marketing**: Using video content to promote products, services, or brands on platforms like YouTube, Facebook, and Instagram.\\n9. **Mobile Marketing**: Using mobile devices to promote products, services, or brands through SMS, MMS, and mobile apps.\\n10. **Analytics and Performance Monitoring**: Tracking and measuring the performance of digital marketing campaigns to optimize and improve their effectiveness.\\n\\nThe benefits of digital marketing include:\\n\\n1. **Increased reach**: Digital marketing allows businesses to reach a global audience, regardless of their location.\\n2. **Cost-effectiveness**: Digital marketing is often more cost-effective than traditional marketing methods.\\n3. **Measurable results**: Digital marketing allows businesses to track and measure the performance of their campaigns.\\n4. **Flexibility**: Digital marketing campaigns can be easily adjusted or optimized in real-time.\\n5. **Personalization**: Digital marketing allows businesses to personalize their messages and offers to individual customers.\\n\\nOverall, digital marketing is a powerful tool for businesses to reach, engage, and convert their target audiences, and it continues to evolve and grow in importance as more people spend more time online.'"
      ]
     },
     "execution_count": 48,
     "metadata": {},
     "output_type": "execute_result"
    }
   ],
   "source": [
    "response=rag_chain.invoke({\"input\":\"what is digital marketing ?\"})\n",
    "response['answer']"
   ]
  },
  {
   "cell_type": "code",
   "execution_count": null,
   "id": "333b546e",
   "metadata": {},
   "outputs": [],
   "source": []
  }
 ],
 "metadata": {
  "kernelspec": {
   "display_name": "test",
   "language": "python",
   "name": "python3"
  },
  "language_info": {
   "codemirror_mode": {
    "name": "ipython",
    "version": 3
   },
   "file_extension": ".py",
   "mimetype": "text/x-python",
   "name": "python",
   "nbconvert_exporter": "python",
   "pygments_lexer": "ipython3",
   "version": "3.12.5"
  }
 },
 "nbformat": 4,
 "nbformat_minor": 5
}
